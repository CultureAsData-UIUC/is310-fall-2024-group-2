{
 "cells": [
  {
   "cell_type": "markdown",
   "metadata": {},
   "source": [
    "# Instructor Feedback for Mid-Semester Dataset Update and Group Assignments for Group 2\n",
    "\n",
    "Below are three sections of feedback regarding your mid-semester dataset update and group assignments. Overall, I'm pleased to see promising progress on the project and effective teamwork. Your current work provides a solid foundation for the project's goal of creating something like the datasets we've explored in the *Responsible Datasets in Context Project*. I was particularly impressed with your group's creativity and your ability to navigate challenging obstacles.\n",
    "\n",
    "I do have some questions about the division of labor, which you'll find below. You have two options for returning feedback: create a new GitHub issue responding to my questions and tag me or complete the Google form available via Canvas. The form allows you to confirm or suggest corrections to my assessments. You can also use the form to provide private feedback that will not be shared with the rest of your group if you think it would be helpful."
   ]
  },
  {
   "cell_type": "markdown",
   "metadata": {},
   "source": [
    "## Load Libraries and Datasets\n",
    "\n",
    "To run this notebook, you will need to have `pandas`, `altair`, and `rich` installed. You can find instructions on how to do so in our course website."
   ]
  },
  {
   "cell_type": "code",
   "execution_count": 1,
   "metadata": {},
   "outputs": [],
   "source": [
    "import pandas as pd\n",
    "import altair as alt\n",
    "from rich.console import Console\n",
    "from rich.table import Table\n",
    "\n",
    "console = Console()\n",
    "\n",
    "# Load the data\n",
    "contributors_df = pd.read_csv(\"./datasets/contributors_group_2.csv\")\n",
    "commits_df = pd.read_csv(\"./datasets/commits_group_2.csv\")\n",
    "issues_df = pd.read_csv(\"./datasets/issues_group_2.csv\")"
   ]
  },
  {
   "cell_type": "markdown",
   "metadata": {},
   "source": [
    "## Overall Group Feedback"
   ]
  },
  {
   "cell_type": "markdown",
   "metadata": {},
   "source": [
    "Overall, your group seems to be working well together, and I think you've made excellent progress on your final project! In terms of your group's GitHub repository, I would highly encourage you to update the main `README.md` file to remove the default text I had added and replace it with more informative content about your project and how to navigate your repository. You should also add an updated description to the repository and a license file. Finally, I'm glad to see you have a `gitignore` file, but there was few empty files like `project_manager_3.md` or weirdly formatted ones like `Project manager assignment.ipynb` that you might want to clean up or delete.\n",
    "\n",
    "I will say that while I respect and understand your current approach to dividing labor, it does make it somewhat difficult for me to assess since it seems like primarily Ryan has been doing the coding and issue management (at least based on the data you will see below). If you could please just briefly confirm that the division of labor is relatively equitable on the Google form on Canvas, then I'm happy to share the grades between all members of the group. But I would like to get that confirmation since it is not clear to me from the data that I have available.\n",
    "\n",
    "In the following graphs, you will see some of how your group has been working together from what I can tell via GitHub. I do not think this data represents all your group's work or activities, so I would encourage you to consider if there's more you could do to document and be transparent with how you work together in more detail moving forward. Though again I am happy to trust your current division if I get confirmation from all group members."
   ]
  },
  {
   "cell_type": "markdown",
   "metadata": {},
   "source": [
    "### Contributions Per Group Member"
   ]
  },
  {
   "cell_type": "code",
   "execution_count": 2,
   "metadata": {},
   "outputs": [
    {
     "data": {
      "text/html": [
       "<pre style=\"white-space:pre;overflow-x:auto;line-height:normal;font-family:Menlo,'DejaVu Sans Mono',consolas,'Courier New',monospace\"><span style=\"font-style: italic\">                Contributors                </span>\n",
       "┏━━━━━━━━━━━━━━━━┳━━━━━━━━━━━━━━━━━━━━━━━━━┓\n",
       "┃<span style=\"font-weight: bold\"> Contributor    </span>┃<span style=\"font-weight: bold\"> Number of Contributions </span>┃\n",
       "┡━━━━━━━━━━━━━━━━╇━━━━━━━━━━━━━━━━━━━━━━━━━┩\n",
       "│<span style=\"color: #008080; text-decoration-color: #008080\"> ryanpearlman1  </span>│<span style=\"color: #800080; text-decoration-color: #800080\"> 6                       </span>│\n",
       "│<span style=\"color: #008080; text-decoration-color: #008080\"> lhayedimarucut </span>│<span style=\"color: #800080; text-decoration-color: #800080\"> 4                       </span>│\n",
       "│<span style=\"color: #008080; text-decoration-color: #008080\"> Rebe-Rod       </span>│<span style=\"color: #800080; text-decoration-color: #800080\"> 3                       </span>│\n",
       "│<span style=\"color: #008080; text-decoration-color: #008080\"> averyWebster   </span>│<span style=\"color: #800080; text-decoration-color: #800080\"> 1                       </span>│\n",
       "└────────────────┴─────────────────────────┘\n",
       "</pre>\n"
      ],
      "text/plain": [
       "\u001b[3m                Contributors                \u001b[0m\n",
       "┏━━━━━━━━━━━━━━━━┳━━━━━━━━━━━━━━━━━━━━━━━━━┓\n",
       "┃\u001b[1m \u001b[0m\u001b[1mContributor   \u001b[0m\u001b[1m \u001b[0m┃\u001b[1m \u001b[0m\u001b[1mNumber of Contributions\u001b[0m\u001b[1m \u001b[0m┃\n",
       "┡━━━━━━━━━━━━━━━━╇━━━━━━━━━━━━━━━━━━━━━━━━━┩\n",
       "│\u001b[36m \u001b[0m\u001b[36mryanpearlman1 \u001b[0m\u001b[36m \u001b[0m│\u001b[35m \u001b[0m\u001b[35m6                      \u001b[0m\u001b[35m \u001b[0m│\n",
       "│\u001b[36m \u001b[0m\u001b[36mlhayedimarucut\u001b[0m\u001b[36m \u001b[0m│\u001b[35m \u001b[0m\u001b[35m4                      \u001b[0m\u001b[35m \u001b[0m│\n",
       "│\u001b[36m \u001b[0m\u001b[36mRebe-Rod      \u001b[0m\u001b[36m \u001b[0m│\u001b[35m \u001b[0m\u001b[35m3                      \u001b[0m\u001b[35m \u001b[0m│\n",
       "│\u001b[36m \u001b[0m\u001b[36maveryWebster  \u001b[0m\u001b[36m \u001b[0m│\u001b[35m \u001b[0m\u001b[35m1                      \u001b[0m\u001b[35m \u001b[0m│\n",
       "└────────────────┴─────────────────────────┘\n"
      ]
     },
     "metadata": {},
     "output_type": "display_data"
    }
   ],
   "source": [
    "# Create a table for the contributions\n",
    "contributors_table = Table(title=\"Contributors\")\n",
    "# Add columns with the contributors and the number of contributions\n",
    "contributors_table.add_column(\"Contributor\", style=\"cyan\")\n",
    "contributors_table.add_column(\"Number of Contributions\", style=\"magenta\")\n",
    "# Sort the contributors by the number of contributions, with the highest first\n",
    "contributors_df = contributors_df.sort_values(by=\"contributions\", ascending=False)\n",
    "# Loop through the contributors and add them to the table\n",
    "for index, row in contributors_df.iterrows():\n",
    "\t# Add the contributor to the table and set the contributions to be a string\n",
    "\tcontributors_table.add_row(row[\"login\"], str(row[\"contributions\"]))\n",
    "# Print the table\n",
    "console.print(contributors_table)"
   ]
  },
  {
   "cell_type": "markdown",
   "metadata": {},
   "source": [
    "Above is the total number of contributions (that is commits) per group member. I see that there is not many commits currently, which makes sense since most of your group activities so far have been more research intensive. However, I would like to see all members of the group committing to the repository moving forward if it is possible."
   ]
  },
  {
   "cell_type": "markdown",
   "metadata": {},
   "source": [
    "### Commits Over Time"
   ]
  },
  {
   "cell_type": "code",
   "execution_count": 3,
   "metadata": {},
   "outputs": [
    {
     "data": {
      "text/html": [
       "\n",
       "<style>\n",
       "  #altair-viz-3450cab496a1496e81f2cac05cdac733.vega-embed {\n",
       "    width: 100%;\n",
       "    display: flex;\n",
       "  }\n",
       "\n",
       "  #altair-viz-3450cab496a1496e81f2cac05cdac733.vega-embed details,\n",
       "  #altair-viz-3450cab496a1496e81f2cac05cdac733.vega-embed details summary {\n",
       "    position: relative;\n",
       "  }\n",
       "</style>\n",
       "<div id=\"altair-viz-3450cab496a1496e81f2cac05cdac733\"></div>\n",
       "<script type=\"text/javascript\">\n",
       "  var VEGA_DEBUG = (typeof VEGA_DEBUG == \"undefined\") ? {} : VEGA_DEBUG;\n",
       "  (function(spec, embedOpt){\n",
       "    let outputDiv = document.currentScript.previousElementSibling;\n",
       "    if (outputDiv.id !== \"altair-viz-3450cab496a1496e81f2cac05cdac733\") {\n",
       "      outputDiv = document.getElementById(\"altair-viz-3450cab496a1496e81f2cac05cdac733\");\n",
       "    }\n",
       "    const paths = {\n",
       "      \"vega\": \"https://cdn.jsdelivr.net/npm/vega@5?noext\",\n",
       "      \"vega-lib\": \"https://cdn.jsdelivr.net/npm/vega-lib?noext\",\n",
       "      \"vega-lite\": \"https://cdn.jsdelivr.net/npm/vega-lite@5.20.1?noext\",\n",
       "      \"vega-embed\": \"https://cdn.jsdelivr.net/npm/vega-embed@6?noext\",\n",
       "    };\n",
       "\n",
       "    function maybeLoadScript(lib, version) {\n",
       "      var key = `${lib.replace(\"-\", \"\")}_version`;\n",
       "      return (VEGA_DEBUG[key] == version) ?\n",
       "        Promise.resolve(paths[lib]) :\n",
       "        new Promise(function(resolve, reject) {\n",
       "          var s = document.createElement('script');\n",
       "          document.getElementsByTagName(\"head\")[0].appendChild(s);\n",
       "          s.async = true;\n",
       "          s.onload = () => {\n",
       "            VEGA_DEBUG[key] = version;\n",
       "            return resolve(paths[lib]);\n",
       "          };\n",
       "          s.onerror = () => reject(`Error loading script: ${paths[lib]}`);\n",
       "          s.src = paths[lib];\n",
       "        });\n",
       "    }\n",
       "\n",
       "    function showError(err) {\n",
       "      outputDiv.innerHTML = `<div class=\"error\" style=\"color:red;\">${err}</div>`;\n",
       "      throw err;\n",
       "    }\n",
       "\n",
       "    function displayChart(vegaEmbed) {\n",
       "      vegaEmbed(outputDiv, spec, embedOpt)\n",
       "        .catch(err => showError(`Javascript Error: ${err.message}<br>This usually means there's a typo in your chart specification. See the javascript console for the full traceback.`));\n",
       "    }\n",
       "\n",
       "    if(typeof define === \"function\" && define.amd) {\n",
       "      requirejs.config({paths});\n",
       "      require([\"vega-embed\"], displayChart, err => showError(`Error loading script: ${err.message}`));\n",
       "    } else {\n",
       "      maybeLoadScript(\"vega\", \"5\")\n",
       "        .then(() => maybeLoadScript(\"vega-lite\", \"5.20.1\"))\n",
       "        .then(() => maybeLoadScript(\"vega-embed\", \"6\"))\n",
       "        .catch(showError)\n",
       "        .then(() => displayChart(vegaEmbed));\n",
       "    }\n",
       "  })({\"config\": {\"view\": {\"continuousWidth\": 300, \"continuousHeight\": 300}}, \"hconcat\": [{\"data\": {\"name\": \"data-0bfe92287d3f9898698a68526c67c6e2\"}, \"mark\": {\"type\": \"bar\"}, \"encoding\": {\"color\": {\"field\": \"login\", \"type\": \"nominal\"}, \"opacity\": {\"condition\": {\"param\": \"param_1\", \"value\": 1}, \"value\": 0.1}, \"tooltip\": [{\"field\": \"commit_date\", \"type\": \"temporal\"}, {\"field\": \"commit_metric_value\", \"type\": \"quantitative\"}, {\"field\": \"login\", \"type\": \"nominal\"}, {\"field\": \"message\", \"type\": \"nominal\"}], \"x\": {\"field\": \"commit_date\", \"type\": \"temporal\"}, \"y\": {\"field\": \"commit_metric_value\", \"type\": \"quantitative\"}}, \"name\": \"view_1\", \"title\": \"Commit additions Over Time\", \"width\": 200}, {\"data\": {\"name\": \"data-67a09dc6f37c3f4e1ec648de46b90e15\"}, \"mark\": {\"type\": \"bar\"}, \"encoding\": {\"color\": {\"field\": \"login\", \"type\": \"nominal\"}, \"opacity\": {\"condition\": {\"param\": \"param_2\", \"value\": 1}, \"value\": 0.1}, \"tooltip\": [{\"field\": \"commit_date\", \"type\": \"temporal\"}, {\"field\": \"commit_metric_value\", \"type\": \"quantitative\"}, {\"field\": \"login\", \"type\": \"nominal\"}, {\"field\": \"message\", \"type\": \"nominal\"}], \"x\": {\"field\": \"commit_date\", \"type\": \"temporal\"}, \"y\": {\"field\": \"commit_metric_value\", \"type\": \"quantitative\"}}, \"name\": \"view_2\", \"title\": \"Commit deletions Over Time\", \"width\": 200}, {\"data\": {\"name\": \"data-6086fe3e9e4da8d016460e27cac6d79f\"}, \"mark\": {\"type\": \"bar\"}, \"encoding\": {\"color\": {\"field\": \"login\", \"type\": \"nominal\"}, \"opacity\": {\"condition\": {\"param\": \"param_3\", \"value\": 1}, \"value\": 0.1}, \"tooltip\": [{\"field\": \"commit_date\", \"type\": \"temporal\"}, {\"field\": \"commit_metric_value\", \"type\": \"quantitative\"}, {\"field\": \"login\", \"type\": \"nominal\"}, {\"field\": \"message\", \"type\": \"nominal\"}], \"x\": {\"field\": \"commit_date\", \"type\": \"temporal\"}, \"y\": {\"field\": \"commit_metric_value\", \"type\": \"quantitative\"}}, \"name\": \"view_3\", \"title\": \"Commit changedFiles Over Time\", \"width\": 200}], \"params\": [{\"name\": \"param_1\", \"select\": {\"type\": \"point\", \"fields\": [\"login\"]}, \"bind\": \"legend\", \"views\": [\"view_1\"]}, {\"name\": \"param_2\", \"select\": {\"type\": \"point\", \"fields\": [\"login\"]}, \"bind\": \"legend\", \"views\": [\"view_2\"]}, {\"name\": \"param_3\", \"select\": {\"type\": \"point\", \"fields\": [\"login\"]}, \"bind\": \"legend\", \"views\": [\"view_3\"]}], \"resolve\": {\"scale\": {\"y\": \"independent\"}}, \"$schema\": \"https://vega.github.io/schema/vega-lite/v5.20.1.json\", \"datasets\": {\"data-0bfe92287d3f9898698a68526c67c6e2\": [{\"commit_date\": \"2024-10-29T02:32:32+00:00\", \"commit_metric_value\": 0, \"login\": \"ryanpearlman1\", \"message\": \"Remove dsstore\"}, {\"commit_date\": \"2024-10-29T02:30:21+00:00\", \"commit_metric_value\": 21, \"login\": \"ryanpearlman1\", \"message\": \"add mid semester update\"}, {\"commit_date\": \"2024-10-03T18:32:35+00:00\", \"commit_metric_value\": 15, \"login\": \"ryanpearlman1\", \"message\": \"Merge pull request #2 from jrfrye2/initial-project-proposal-feedback\\n\\nProposal Feedback\"}, {\"commit_date\": \"2024-09-24T18:26:13+00:00\", \"commit_metric_value\": 1, \"login\": \"ryanpearlman1\", \"message\": \"Update README.md to include Henry\"}, {\"commit_date\": \"2024-09-24T18:22:34+00:00\", \"commit_metric_value\": 17, \"login\": \"ryanpearlman1\", \"message\": \"fix proposal folder\"}, {\"commit_date\": \"2024-09-10T19:41:40+00:00\", \"commit_metric_value\": 41, \"login\": \"ryanpearlman1\", \"message\": \"Merge pull request #1 from CultureAsData-UIUC/adding-project-management-workflow\\n\\nAdded project management workflow issue template\"}, {\"commit_date\": \"2024-10-15T15:55:14+00:00\", \"commit_metric_value\": 0, \"login\": \"averyWebster\", \"message\": \"project manager submssion\"}, {\"commit_date\": \"2024-10-15T01:06:14+00:00\", \"commit_metric_value\": 13, \"login\": \"lhayedimarucut\", \"message\": \"README license\"}, {\"commit_date\": \"2024-10-15T00:57:04+00:00\", \"commit_metric_value\": 4, \"login\": \"lhayedimarucut\", \"message\": \"Data Reflection\"}, {\"commit_date\": \"2024-10-15T00:53:21+00:00\", \"commit_metric_value\": 28, \"login\": \"lhayedimarucut\", \"message\": \"Data reflection\"}, {\"commit_date\": \"2024-10-15T00:21:44+00:00\", \"commit_metric_value\": 26, \"login\": \"lhayedimarucut\", \"message\": \"properity platform\"}, {\"commit_date\": \"2024-10-02T20:16:50+00:00\", \"commit_metric_value\": 15, \"login\": \"averyWebster\", \"message\": \"Proposal Feedback\"}, {\"commit_date\": \"2024-09-24T05:00:40+00:00\", \"commit_metric_value\": 0, \"login\": \"Rebe-Rod\", \"message\": \"Add files via upload\"}, {\"commit_date\": \"2024-09-24T04:58:26+00:00\", \"commit_metric_value\": 58, \"login\": \"Rebe-Rod\", \"message\": \"Add files via upload\"}, {\"commit_date\": \"2024-09-24T04:51:11+00:00\", \"commit_metric_value\": 95, \"login\": \"Rebe-Rod\", \"message\": \"Add files via upload\"}], \"data-67a09dc6f37c3f4e1ec648de46b90e15\": [{\"commit_date\": \"2024-10-29T02:32:32+00:00\", \"commit_metric_value\": 0, \"login\": \"ryanpearlman1\", \"message\": \"Remove dsstore\"}, {\"commit_date\": \"2024-10-29T02:30:21+00:00\", \"commit_metric_value\": 0, \"login\": \"ryanpearlman1\", \"message\": \"add mid semester update\"}, {\"commit_date\": \"2024-10-03T18:32:35+00:00\", \"commit_metric_value\": 0, \"login\": \"ryanpearlman1\", \"message\": \"Merge pull request #2 from jrfrye2/initial-project-proposal-feedback\\n\\nProposal Feedback\"}, {\"commit_date\": \"2024-09-24T18:26:13+00:00\", \"commit_metric_value\": 1, \"login\": \"ryanpearlman1\", \"message\": \"Update README.md to include Henry\"}, {\"commit_date\": \"2024-09-24T18:22:34+00:00\", \"commit_metric_value\": 0, \"login\": \"ryanpearlman1\", \"message\": \"fix proposal folder\"}, {\"commit_date\": \"2024-09-10T19:41:40+00:00\", \"commit_metric_value\": 0, \"login\": \"ryanpearlman1\", \"message\": \"Merge pull request #1 from CultureAsData-UIUC/adding-project-management-workflow\\n\\nAdded project management workflow issue template\"}, {\"commit_date\": \"2024-10-15T15:55:14+00:00\", \"commit_metric_value\": 0, \"login\": \"averyWebster\", \"message\": \"project manager submssion\"}, {\"commit_date\": \"2024-10-15T01:06:14+00:00\", \"commit_metric_value\": 0, \"login\": \"lhayedimarucut\", \"message\": \"README license\"}, {\"commit_date\": \"2024-10-15T00:57:04+00:00\", \"commit_metric_value\": 0, \"login\": \"lhayedimarucut\", \"message\": \"Data Reflection\"}, {\"commit_date\": \"2024-10-15T00:53:21+00:00\", \"commit_metric_value\": 0, \"login\": \"lhayedimarucut\", \"message\": \"Data reflection\"}, {\"commit_date\": \"2024-10-15T00:21:44+00:00\", \"commit_metric_value\": 0, \"login\": \"lhayedimarucut\", \"message\": \"properity platform\"}, {\"commit_date\": \"2024-10-02T20:16:50+00:00\", \"commit_metric_value\": 0, \"login\": \"averyWebster\", \"message\": \"Proposal Feedback\"}, {\"commit_date\": \"2024-09-24T05:00:40+00:00\", \"commit_metric_value\": 0, \"login\": \"Rebe-Rod\", \"message\": \"Add files via upload\"}, {\"commit_date\": \"2024-09-24T04:58:26+00:00\", \"commit_metric_value\": 0, \"login\": \"Rebe-Rod\", \"message\": \"Add files via upload\"}, {\"commit_date\": \"2024-09-24T04:51:11+00:00\", \"commit_metric_value\": 0, \"login\": \"Rebe-Rod\", \"message\": \"Add files via upload\"}], \"data-6086fe3e9e4da8d016460e27cac6d79f\": [{\"commit_date\": \"2024-10-29T02:32:32+00:00\", \"commit_metric_value\": 1, \"login\": \"ryanpearlman1\", \"message\": \"Remove dsstore\"}, {\"commit_date\": \"2024-10-29T02:30:21+00:00\", \"commit_metric_value\": 2, \"login\": \"ryanpearlman1\", \"message\": \"add mid semester update\"}, {\"commit_date\": \"2024-10-03T18:32:35+00:00\", \"commit_metric_value\": 1, \"login\": \"ryanpearlman1\", \"message\": \"Merge pull request #2 from jrfrye2/initial-project-proposal-feedback\\n\\nProposal Feedback\"}, {\"commit_date\": \"2024-09-24T18:26:13+00:00\", \"commit_metric_value\": 1, \"login\": \"ryanpearlman1\", \"message\": \"Update README.md to include Henry\"}, {\"commit_date\": \"2024-09-24T18:22:34+00:00\", \"commit_metric_value\": 4, \"login\": \"ryanpearlman1\", \"message\": \"fix proposal folder\"}, {\"commit_date\": \"2024-09-10T19:41:40+00:00\", \"commit_metric_value\": 2, \"login\": \"ryanpearlman1\", \"message\": \"Merge pull request #1 from CultureAsData-UIUC/adding-project-management-workflow\\n\\nAdded project management workflow issue template\"}, {\"commit_date\": \"2024-10-15T15:55:14+00:00\", \"commit_metric_value\": 1, \"login\": \"averyWebster\", \"message\": \"project manager submssion\"}, {\"commit_date\": \"2024-10-15T01:06:14+00:00\", \"commit_metric_value\": 1, \"login\": \"lhayedimarucut\", \"message\": \"README license\"}, {\"commit_date\": \"2024-10-15T00:57:04+00:00\", \"commit_metric_value\": 1, \"login\": \"lhayedimarucut\", \"message\": \"Data Reflection\"}, {\"commit_date\": \"2024-10-15T00:53:21+00:00\", \"commit_metric_value\": 2, \"login\": \"lhayedimarucut\", \"message\": \"Data reflection\"}, {\"commit_date\": \"2024-10-15T00:21:44+00:00\", \"commit_metric_value\": 5, \"login\": \"lhayedimarucut\", \"message\": \"properity platform\"}, {\"commit_date\": \"2024-10-02T20:16:50+00:00\", \"commit_metric_value\": 1, \"login\": \"averyWebster\", \"message\": \"Proposal Feedback\"}, {\"commit_date\": \"2024-09-24T05:00:40+00:00\", \"commit_metric_value\": 1, \"login\": \"Rebe-Rod\", \"message\": \"Add files via upload\"}, {\"commit_date\": \"2024-09-24T04:58:26+00:00\", \"commit_metric_value\": 1, \"login\": \"Rebe-Rod\", \"message\": \"Add files via upload\"}, {\"commit_date\": \"2024-09-24T04:51:11+00:00\", \"commit_metric_value\": 1, \"login\": \"Rebe-Rod\", \"message\": \"Add files via upload\"}]}}, {\"mode\": \"vega-lite\"});\n",
       "</script>"
      ],
      "text/plain": [
       "alt.HConcatChart(...)"
      ]
     },
     "execution_count": 3,
     "metadata": {},
     "output_type": "execute_result"
    }
   ],
   "source": [
    "# Melt the commits dataframe from wide to long format so that we can have all commit type activities in one column called commit_metric\n",
    "melted_commits_df = commits_df.melt(id_vars=['oid', 'message', 'committedDate', 'login', ], value_vars=['additions', 'deletions', 'changedFiles'], var_name='commit_metric', value_name='commit_metric_value')\n",
    "# Convert the commit date to a datetime object\n",
    "melted_commits_df['commit_date'] = pd.to_datetime(melted_commits_df['committedDate'], errors='coerce')\n",
    "# Get the unique commit types to create charts for each type\n",
    "commit_types = melted_commits_df['commit_metric'].unique().tolist()\n",
    "\n",
    "# Create a list to store the charts\n",
    "charts = []\n",
    "# Loop through the commit types and create a chart for each type\n",
    "for commit_type in commit_types:\n",
    "\t# Create an interactive selection for each chart where you can select the login to highlight each group member's contributions\n",
    "\tselection = alt.selection_point(fields=['login'], bind='legend')\n",
    "\t\n",
    "\t# Filter the DataFrame for the current commit type and subset to only the columns we need to keep the chart smaller in size\n",
    "\tfiltered_df = melted_commits_df[melted_commits_df['commit_metric'] == commit_type][['commit_date', 'commit_metric_value', 'login', 'message']]\n",
    "\t\n",
    "\t# Create a bar chart for the current commit type\n",
    "\tchart = alt.Chart(filtered_df).mark_bar().encode(\n",
    "\t\tx='commit_date:T', # Use the commit date as the x-axis\n",
    "\t\ty='commit_metric_value:Q', # Use the commit metric value as the y-axis\n",
    "\t\tcolor='login:N', # Color the bars by the login\n",
    "\t\topacity=alt.condition(selection, alt.value(1), alt.value(0.1)), # Set the opacity to 1 if the login is selected and 0.1 if not\n",
    "\t\ttooltip=['commit_date', 'commit_metric_value', 'login', 'message'] # Show the commit date, commit metric value, login, and message in the tooltip\n",
    "\t).add_params(selection).properties(\n",
    "\t\ttitle=f\"Commit {commit_type} Over Time\",\n",
    "\t\twidth=200\n",
    "\t)\n",
    "\t# Add the chart to the list of charts\n",
    "\tcharts.append(chart)\n",
    "# Combine all the charts into one chart and set the y-axis to be independent so that we can see all the changes even if the y axis scale is different for each commit type activity\n",
    "alt.hconcat(*charts).resolve_scale(y='independent')"
   ]
  },
  {
   "cell_type": "markdown",
   "metadata": {},
   "source": [
    "When we look at the distribution of commit activities (so additions, deletions, and number of files changed), it does look like you have been working on the group GitHub repository somewhat consistently, which is good. I do think you might consider committing more frequently, especially as the final project wraps up (you can think of commits as almost a form of saving your work, so it's good to do it often), but again leave that up to you all to decide."
   ]
  },
  {
   "cell_type": "markdown",
   "metadata": {},
   "source": [
    "### Issues and Project Management Over Time"
   ]
  },
  {
   "cell_type": "code",
   "execution_count": 4,
   "metadata": {},
   "outputs": [
    {
     "data": {
      "text/html": [
       "\n",
       "<style>\n",
       "  #altair-viz-7b1869206f1c43279980ace322af4324.vega-embed {\n",
       "    width: 100%;\n",
       "    display: flex;\n",
       "  }\n",
       "\n",
       "  #altair-viz-7b1869206f1c43279980ace322af4324.vega-embed details,\n",
       "  #altair-viz-7b1869206f1c43279980ace322af4324.vega-embed details summary {\n",
       "    position: relative;\n",
       "  }\n",
       "</style>\n",
       "<div id=\"altair-viz-7b1869206f1c43279980ace322af4324\"></div>\n",
       "<script type=\"text/javascript\">\n",
       "  var VEGA_DEBUG = (typeof VEGA_DEBUG == \"undefined\") ? {} : VEGA_DEBUG;\n",
       "  (function(spec, embedOpt){\n",
       "    let outputDiv = document.currentScript.previousElementSibling;\n",
       "    if (outputDiv.id !== \"altair-viz-7b1869206f1c43279980ace322af4324\") {\n",
       "      outputDiv = document.getElementById(\"altair-viz-7b1869206f1c43279980ace322af4324\");\n",
       "    }\n",
       "    const paths = {\n",
       "      \"vega\": \"https://cdn.jsdelivr.net/npm/vega@5?noext\",\n",
       "      \"vega-lib\": \"https://cdn.jsdelivr.net/npm/vega-lib?noext\",\n",
       "      \"vega-lite\": \"https://cdn.jsdelivr.net/npm/vega-lite@5.20.1?noext\",\n",
       "      \"vega-embed\": \"https://cdn.jsdelivr.net/npm/vega-embed@6?noext\",\n",
       "    };\n",
       "\n",
       "    function maybeLoadScript(lib, version) {\n",
       "      var key = `${lib.replace(\"-\", \"\")}_version`;\n",
       "      return (VEGA_DEBUG[key] == version) ?\n",
       "        Promise.resolve(paths[lib]) :\n",
       "        new Promise(function(resolve, reject) {\n",
       "          var s = document.createElement('script');\n",
       "          document.getElementsByTagName(\"head\")[0].appendChild(s);\n",
       "          s.async = true;\n",
       "          s.onload = () => {\n",
       "            VEGA_DEBUG[key] = version;\n",
       "            return resolve(paths[lib]);\n",
       "          };\n",
       "          s.onerror = () => reject(`Error loading script: ${paths[lib]}`);\n",
       "          s.src = paths[lib];\n",
       "        });\n",
       "    }\n",
       "\n",
       "    function showError(err) {\n",
       "      outputDiv.innerHTML = `<div class=\"error\" style=\"color:red;\">${err}</div>`;\n",
       "      throw err;\n",
       "    }\n",
       "\n",
       "    function displayChart(vegaEmbed) {\n",
       "      vegaEmbed(outputDiv, spec, embedOpt)\n",
       "        .catch(err => showError(`Javascript Error: ${err.message}<br>This usually means there's a typo in your chart specification. See the javascript console for the full traceback.`));\n",
       "    }\n",
       "\n",
       "    if(typeof define === \"function\" && define.amd) {\n",
       "      requirejs.config({paths});\n",
       "      require([\"vega-embed\"], displayChart, err => showError(`Error loading script: ${err.message}`));\n",
       "    } else {\n",
       "      maybeLoadScript(\"vega\", \"5\")\n",
       "        .then(() => maybeLoadScript(\"vega-lite\", \"5.20.1\"))\n",
       "        .then(() => maybeLoadScript(\"vega-embed\", \"6\"))\n",
       "        .catch(showError)\n",
       "        .then(() => displayChart(vegaEmbed));\n",
       "    }\n",
       "  })({\"config\": {\"view\": {\"continuousWidth\": 300, \"continuousHeight\": 300}}, \"vconcat\": [{\"data\": {\"name\": \"data-c96da6dcd81928903618370a75af5401\"}, \"mark\": {\"type\": \"line\", \"point\": true}, \"encoding\": {\"color\": {\"field\": \"user_login\", \"type\": \"nominal\"}, \"opacity\": {\"condition\": {\"param\": \"param_4\", \"value\": 1}, \"value\": 0.1}, \"tooltip\": [{\"field\": \"user_login\", \"type\": \"nominal\"}, {\"field\": \"closed_by_login\", \"type\": \"quantitative\"}, {\"field\": \"issue_date\", \"timeUnit\": \"yearmonthdatehoursminutes\", \"type\": \"temporal\"}, {\"field\": \"issue_date_type\", \"type\": \"nominal\"}, {\"field\": \"title\", \"type\": \"nominal\"}, {\"field\": \"body\", \"type\": \"quantitative\"}, {\"field\": \"state\", \"type\": \"quantitative\"}, {\"field\": \"assignee\", \"type\": \"quantitative\"}, {\"field\": \"assignees_logins\", \"type\": \"quantitative\"}, {\"field\": \"html_url\", \"type\": \"quantitative\"}], \"x\": {\"field\": \"issue_date\", \"type\": \"temporal\"}, \"y\": {\"axis\": {\"labels\": false, \"title\": null}, \"field\": \"title\", \"type\": \"nominal\"}}, \"name\": \"view_4\", \"title\": {\"text\": \"Issue: get access to in-progress PEN America dataset\", \"subtitle\": [\"Issue is associated with a project board and has status Done.\"]}}, {\"data\": {\"name\": \"data-212f981fa1e5b789cc224af2da07b973\"}, \"mark\": {\"type\": \"line\", \"point\": true}, \"encoding\": {\"color\": {\"field\": \"user_login\", \"type\": \"nominal\"}, \"opacity\": {\"condition\": {\"param\": \"param_5\", \"value\": 1}, \"value\": 0.1}, \"tooltip\": [{\"field\": \"user_login\", \"type\": \"nominal\"}, {\"field\": \"closed_by_login\", \"type\": \"quantitative\"}, {\"field\": \"issue_date\", \"timeUnit\": \"yearmonthdatehoursminutes\", \"type\": \"temporal\"}, {\"field\": \"issue_date_type\", \"type\": \"nominal\"}, {\"field\": \"title\", \"type\": \"nominal\"}, {\"field\": \"body\", \"type\": \"quantitative\"}, {\"field\": \"state\", \"type\": \"quantitative\"}, {\"field\": \"assignee\", \"type\": \"quantitative\"}, {\"field\": \"assignees_logins\", \"type\": \"quantitative\"}, {\"field\": \"html_url\", \"type\": \"quantitative\"}], \"x\": {\"field\": \"issue_date\", \"type\": \"temporal\"}, \"y\": {\"axis\": {\"labels\": false, \"title\": null}, \"field\": \"title\", \"type\": \"nominal\"}}, \"name\": \"view_5\", \"title\": {\"text\": \"Issue: weekly project manager template --Ryan\", \"subtitle\": [\"Issue is associated with a project board and has status In Progress.\"]}}, {\"data\": {\"name\": \"data-1891a36f22b6de52bb2a57ee066d2c74\"}, \"mark\": {\"type\": \"line\", \"point\": true}, \"encoding\": {\"color\": {\"field\": \"user_login\", \"type\": \"nominal\"}, \"opacity\": {\"condition\": {\"param\": \"param_6\", \"value\": 1}, \"value\": 0.1}, \"tooltip\": [{\"field\": \"user_login\", \"type\": \"nominal\"}, {\"field\": \"closed_by_login\", \"type\": \"quantitative\"}, {\"field\": \"issue_date\", \"timeUnit\": \"yearmonthdatehoursminutes\", \"type\": \"temporal\"}, {\"field\": \"issue_date_type\", \"type\": \"nominal\"}, {\"field\": \"title\", \"type\": \"nominal\"}, {\"field\": \"body\", \"type\": \"quantitative\"}, {\"field\": \"state\", \"type\": \"quantitative\"}, {\"field\": \"assignee\", \"type\": \"quantitative\"}, {\"field\": \"assignees_logins\", \"type\": \"quantitative\"}, {\"field\": \"html_url\", \"type\": \"quantitative\"}], \"x\": {\"field\": \"issue_date\", \"type\": \"temporal\"}, \"y\": {\"axis\": {\"labels\": false, \"title\": null}, \"field\": \"title\", \"type\": \"nominal\"}}, \"name\": \"view_6\", \"title\": {\"text\": \"Issue: Add archives data to main dataset\", \"subtitle\": [\"Issue is associated with a project board and has status In Progress.\"]}}, {\"data\": {\"name\": \"data-35643030adb78595865c6cbeaae0a2b5\"}, \"mark\": {\"type\": \"line\", \"point\": true}, \"encoding\": {\"color\": {\"field\": \"user_login\", \"type\": \"nominal\"}, \"opacity\": {\"condition\": {\"param\": \"param_7\", \"value\": 1}, \"value\": 0.1}, \"tooltip\": [{\"field\": \"user_login\", \"type\": \"nominal\"}, {\"field\": \"closed_by_login\", \"type\": \"quantitative\"}, {\"field\": \"issue_date\", \"timeUnit\": \"yearmonthdatehoursminutes\", \"type\": \"temporal\"}, {\"field\": \"issue_date_type\", \"type\": \"nominal\"}, {\"field\": \"title\", \"type\": \"nominal\"}, {\"field\": \"body\", \"type\": \"quantitative\"}, {\"field\": \"state\", \"type\": \"quantitative\"}, {\"field\": \"assignee\", \"type\": \"quantitative\"}, {\"field\": \"assignees_logins\", \"type\": \"quantitative\"}, {\"field\": \"html_url\", \"type\": \"quantitative\"}], \"x\": {\"field\": \"issue_date\", \"type\": \"temporal\"}, \"y\": {\"axis\": {\"labels\": false, \"title\": null}, \"field\": \"title\", \"type\": \"nominal\"}}, \"name\": \"view_7\", \"title\": {\"text\": \"Issue: merge first two datasets\", \"subtitle\": [\"Issue is associated with a project board and has status Done.\"]}}, {\"data\": {\"name\": \"data-4921fbd15903b0d58d3db8b3a666d71f\"}, \"mark\": {\"type\": \"line\", \"point\": true}, \"encoding\": {\"color\": {\"field\": \"user_login\", \"type\": \"nominal\"}, \"opacity\": {\"condition\": {\"param\": \"param_8\", \"value\": 1}, \"value\": 0.1}, \"tooltip\": [{\"field\": \"user_login\", \"type\": \"nominal\"}, {\"field\": \"closed_by_login\", \"type\": \"quantitative\"}, {\"field\": \"issue_date\", \"timeUnit\": \"yearmonthdatehoursminutes\", \"type\": \"temporal\"}, {\"field\": \"issue_date_type\", \"type\": \"nominal\"}, {\"field\": \"title\", \"type\": \"nominal\"}, {\"field\": \"body\", \"type\": \"quantitative\"}, {\"field\": \"state\", \"type\": \"quantitative\"}, {\"field\": \"assignee\", \"type\": \"quantitative\"}, {\"field\": \"assignees_logins\", \"type\": \"quantitative\"}, {\"field\": \"html_url\", \"type\": \"quantitative\"}], \"x\": {\"field\": \"issue_date\", \"type\": \"temporal\"}, \"y\": {\"axis\": {\"labels\": false, \"title\": null}, \"field\": \"title\", \"type\": \"nominal\"}}, \"name\": \"view_8\", \"title\": {\"text\": \"Issue: merge all 3 PEN America datasets\", \"subtitle\": [\"Issue is associated with a project board and has status In Progress.\"]}}, {\"data\": {\"name\": \"data-eebdfc1e9e17bdee271d4fb9dadf26b1\"}, \"mark\": {\"type\": \"line\", \"point\": true}, \"encoding\": {\"color\": {\"field\": \"user_login\", \"type\": \"nominal\"}, \"opacity\": {\"condition\": {\"param\": \"param_9\", \"value\": 1}, \"value\": 0.1}, \"tooltip\": [{\"field\": \"user_login\", \"type\": \"nominal\"}, {\"field\": \"closed_by_login\", \"type\": \"nominal\"}, {\"field\": \"issue_date\", \"timeUnit\": \"yearmonthdatehoursminutes\", \"type\": \"temporal\"}, {\"field\": \"issue_date_type\", \"type\": \"nominal\"}, {\"field\": \"title\", \"type\": \"nominal\"}, {\"field\": \"body\", \"type\": \"nominal\"}, {\"field\": \"state\", \"type\": \"nominal\"}, {\"field\": \"assignee\", \"type\": \"quantitative\"}, {\"field\": \"assignees_logins\", \"type\": \"quantitative\"}, {\"field\": \"html_url\", \"type\": \"nominal\"}], \"x\": {\"field\": \"issue_date\", \"type\": \"temporal\"}, \"y\": {\"axis\": {\"labels\": false, \"title\": null}, \"field\": \"title\", \"type\": \"nominal\"}}, \"name\": \"view_9\", \"title\": {\"text\": \"Issue: Weekly Progress -- Week 8 (PM: Ryan Pearlman)\", \"subtitle\": \"Issue is not associated with a pull request or a project board.\"}}], \"params\": [{\"name\": \"param_4\", \"select\": {\"type\": \"point\", \"fields\": [\"user_login\"]}, \"bind\": \"legend\", \"views\": [\"view_4\"]}, {\"name\": \"param_5\", \"select\": {\"type\": \"point\", \"fields\": [\"user_login\"]}, \"bind\": \"legend\", \"views\": [\"view_5\"]}, {\"name\": \"param_6\", \"select\": {\"type\": \"point\", \"fields\": [\"user_login\"]}, \"bind\": \"legend\", \"views\": [\"view_6\"]}, {\"name\": \"param_7\", \"select\": {\"type\": \"point\", \"fields\": [\"user_login\"]}, \"bind\": \"legend\", \"views\": [\"view_7\"]}, {\"name\": \"param_8\", \"select\": {\"type\": \"point\", \"fields\": [\"user_login\"]}, \"bind\": \"legend\", \"views\": [\"view_8\"]}, {\"name\": \"param_9\", \"select\": {\"type\": \"point\", \"fields\": [\"user_login\"]}, \"bind\": \"legend\", \"views\": [\"view_9\"]}], \"resolve\": {\"scale\": {\"x\": \"shared\"}}, \"$schema\": \"https://vega.github.io/schema/vega-lite/v5.20.1.json\", \"datasets\": {\"data-c96da6dcd81928903618370a75af5401\": [{\"user_login\": \"ryanpearlman1\", \"title\": \"get access to in-progress PEN America dataset\", \"state\": NaN, \"body\": NaN, \"html_url\": NaN, \"assignee\": null, \"assignees_logins\": null, \"labels\": NaN, \"milestone\": null, \"draft\": null, \"comments\": null, \"state_reason\": NaN, \"closed_by_login\": NaN, \"reactions.total_count\": null, \"issue_duration\": null, \"issue_associated_with_pull_request\": false, \"pull_request.url\": null, \"issue_status_on_project_board\": \"Done\", \"issue_date_type\": \"created_at\", \"issue_date\": \"2024-10-22 20:11:46+00:00\"}, {\"user_login\": \"ryanpearlman1\", \"title\": \"get access to in-progress PEN America dataset\", \"state\": NaN, \"body\": NaN, \"html_url\": NaN, \"assignee\": null, \"assignees_logins\": null, \"labels\": NaN, \"milestone\": null, \"draft\": null, \"comments\": null, \"state_reason\": NaN, \"closed_by_login\": NaN, \"reactions.total_count\": null, \"issue_duration\": null, \"issue_associated_with_pull_request\": false, \"pull_request.url\": null, \"issue_status_on_project_board\": \"Done\", \"issue_date_type\": \"updated_at\", \"issue_date\": null}, {\"user_login\": \"ryanpearlman1\", \"title\": \"get access to in-progress PEN America dataset\", \"state\": NaN, \"body\": NaN, \"html_url\": NaN, \"assignee\": null, \"assignees_logins\": null, \"labels\": NaN, \"milestone\": null, \"draft\": null, \"comments\": null, \"state_reason\": NaN, \"closed_by_login\": NaN, \"reactions.total_count\": null, \"issue_duration\": null, \"issue_associated_with_pull_request\": false, \"pull_request.url\": null, \"issue_status_on_project_board\": \"Done\", \"issue_date_type\": \"closed_at\", \"issue_date\": null}], \"data-212f981fa1e5b789cc224af2da07b973\": [{\"user_login\": \"ryanpearlman1\", \"title\": \"weekly project manager template --Ryan\", \"state\": NaN, \"body\": NaN, \"html_url\": NaN, \"assignee\": null, \"assignees_logins\": null, \"labels\": NaN, \"milestone\": null, \"draft\": null, \"comments\": null, \"state_reason\": NaN, \"closed_by_login\": NaN, \"reactions.total_count\": null, \"issue_duration\": null, \"issue_associated_with_pull_request\": false, \"pull_request.url\": null, \"issue_status_on_project_board\": \"In Progress\", \"issue_date_type\": \"created_at\", \"issue_date\": \"2024-10-22 20:12:32+00:00\"}, {\"user_login\": \"ryanpearlman1\", \"title\": \"weekly project manager template --Ryan\", \"state\": NaN, \"body\": NaN, \"html_url\": NaN, \"assignee\": null, \"assignees_logins\": null, \"labels\": NaN, \"milestone\": null, \"draft\": null, \"comments\": null, \"state_reason\": NaN, \"closed_by_login\": NaN, \"reactions.total_count\": null, \"issue_duration\": null, \"issue_associated_with_pull_request\": false, \"pull_request.url\": null, \"issue_status_on_project_board\": \"In Progress\", \"issue_date_type\": \"updated_at\", \"issue_date\": null}, {\"user_login\": \"ryanpearlman1\", \"title\": \"weekly project manager template --Ryan\", \"state\": NaN, \"body\": NaN, \"html_url\": NaN, \"assignee\": null, \"assignees_logins\": null, \"labels\": NaN, \"milestone\": null, \"draft\": null, \"comments\": null, \"state_reason\": NaN, \"closed_by_login\": NaN, \"reactions.total_count\": null, \"issue_duration\": null, \"issue_associated_with_pull_request\": false, \"pull_request.url\": null, \"issue_status_on_project_board\": \"In Progress\", \"issue_date_type\": \"closed_at\", \"issue_date\": null}], \"data-1891a36f22b6de52bb2a57ee066d2c74\": [{\"user_login\": \"ryanpearlman1\", \"title\": \"Add archives data to main dataset\", \"state\": NaN, \"body\": NaN, \"html_url\": NaN, \"assignee\": null, \"assignees_logins\": null, \"labels\": NaN, \"milestone\": null, \"draft\": null, \"comments\": null, \"state_reason\": NaN, \"closed_by_login\": NaN, \"reactions.total_count\": null, \"issue_duration\": null, \"issue_associated_with_pull_request\": false, \"pull_request.url\": null, \"issue_status_on_project_board\": \"In Progress\", \"issue_date_type\": \"created_at\", \"issue_date\": \"2024-10-22 20:12:45+00:00\"}, {\"user_login\": \"ryanpearlman1\", \"title\": \"Add archives data to main dataset\", \"state\": NaN, \"body\": NaN, \"html_url\": NaN, \"assignee\": null, \"assignees_logins\": null, \"labels\": NaN, \"milestone\": null, \"draft\": null, \"comments\": null, \"state_reason\": NaN, \"closed_by_login\": NaN, \"reactions.total_count\": null, \"issue_duration\": null, \"issue_associated_with_pull_request\": false, \"pull_request.url\": null, \"issue_status_on_project_board\": \"In Progress\", \"issue_date_type\": \"updated_at\", \"issue_date\": null}, {\"user_login\": \"ryanpearlman1\", \"title\": \"Add archives data to main dataset\", \"state\": NaN, \"body\": NaN, \"html_url\": NaN, \"assignee\": null, \"assignees_logins\": null, \"labels\": NaN, \"milestone\": null, \"draft\": null, \"comments\": null, \"state_reason\": NaN, \"closed_by_login\": NaN, \"reactions.total_count\": null, \"issue_duration\": null, \"issue_associated_with_pull_request\": false, \"pull_request.url\": null, \"issue_status_on_project_board\": \"In Progress\", \"issue_date_type\": \"closed_at\", \"issue_date\": null}], \"data-35643030adb78595865c6cbeaae0a2b5\": [{\"user_login\": \"ryanpearlman1\", \"title\": \"merge first two datasets\", \"state\": NaN, \"body\": NaN, \"html_url\": NaN, \"assignee\": null, \"assignees_logins\": null, \"labels\": NaN, \"milestone\": null, \"draft\": null, \"comments\": null, \"state_reason\": NaN, \"closed_by_login\": NaN, \"reactions.total_count\": null, \"issue_duration\": null, \"issue_associated_with_pull_request\": false, \"pull_request.url\": null, \"issue_status_on_project_board\": \"Done\", \"issue_date_type\": \"created_at\", \"issue_date\": \"2024-10-22 20:12:57+00:00\"}, {\"user_login\": \"ryanpearlman1\", \"title\": \"merge first two datasets\", \"state\": NaN, \"body\": NaN, \"html_url\": NaN, \"assignee\": null, \"assignees_logins\": null, \"labels\": NaN, \"milestone\": null, \"draft\": null, \"comments\": null, \"state_reason\": NaN, \"closed_by_login\": NaN, \"reactions.total_count\": null, \"issue_duration\": null, \"issue_associated_with_pull_request\": false, \"pull_request.url\": null, \"issue_status_on_project_board\": \"Done\", \"issue_date_type\": \"updated_at\", \"issue_date\": null}, {\"user_login\": \"ryanpearlman1\", \"title\": \"merge first two datasets\", \"state\": NaN, \"body\": NaN, \"html_url\": NaN, \"assignee\": null, \"assignees_logins\": null, \"labels\": NaN, \"milestone\": null, \"draft\": null, \"comments\": null, \"state_reason\": NaN, \"closed_by_login\": NaN, \"reactions.total_count\": null, \"issue_duration\": null, \"issue_associated_with_pull_request\": false, \"pull_request.url\": null, \"issue_status_on_project_board\": \"Done\", \"issue_date_type\": \"closed_at\", \"issue_date\": null}], \"data-4921fbd15903b0d58d3db8b3a666d71f\": [{\"user_login\": \"ryanpearlman1\", \"title\": \"merge all 3 PEN America datasets\", \"state\": NaN, \"body\": NaN, \"html_url\": NaN, \"assignee\": null, \"assignees_logins\": null, \"labels\": NaN, \"milestone\": null, \"draft\": null, \"comments\": null, \"state_reason\": NaN, \"closed_by_login\": NaN, \"reactions.total_count\": null, \"issue_duration\": null, \"issue_associated_with_pull_request\": false, \"pull_request.url\": null, \"issue_status_on_project_board\": \"In Progress\", \"issue_date_type\": \"created_at\", \"issue_date\": \"2024-10-22 20:13:12+00:00\"}, {\"user_login\": \"ryanpearlman1\", \"title\": \"merge all 3 PEN America datasets\", \"state\": NaN, \"body\": NaN, \"html_url\": NaN, \"assignee\": null, \"assignees_logins\": null, \"labels\": NaN, \"milestone\": null, \"draft\": null, \"comments\": null, \"state_reason\": NaN, \"closed_by_login\": NaN, \"reactions.total_count\": null, \"issue_duration\": null, \"issue_associated_with_pull_request\": false, \"pull_request.url\": null, \"issue_status_on_project_board\": \"In Progress\", \"issue_date_type\": \"updated_at\", \"issue_date\": null}, {\"user_login\": \"ryanpearlman1\", \"title\": \"merge all 3 PEN America datasets\", \"state\": NaN, \"body\": NaN, \"html_url\": NaN, \"assignee\": null, \"assignees_logins\": null, \"labels\": NaN, \"milestone\": null, \"draft\": null, \"comments\": null, \"state_reason\": NaN, \"closed_by_login\": NaN, \"reactions.total_count\": null, \"issue_duration\": null, \"issue_associated_with_pull_request\": false, \"pull_request.url\": null, \"issue_status_on_project_board\": \"In Progress\", \"issue_date_type\": \"closed_at\", \"issue_date\": null}], \"data-eebdfc1e9e17bdee271d4fb9dadf26b1\": [{\"user_login\": \"ryanpearlman1\", \"title\": \"Weekly Progress -- Week 8 (PM: Ryan Pearlman)\", \"state\": \"closed\", \"body\": \"This is a template for project managers to report their weekly progress. Please fill out the following sections. You can also include any additional information that you think is relevant.\\r\\n\\r\\n# Project Manager Weekly Report\\r\\n\\r\\n## Weekly Checklist\\r\\n\\r\\n- [x] Created a weekly report for the group project\\r\\n- [x] Updated the project board\\r\\n- [x] Checked in with team members\\r\\n- [x] Assigned tasks for the upcoming week\\r\\n- [x] Close issue once the weekly tasks are completed\\r\\n\\r\\n## Weekly Summary:\\r\\n*Try to answer the following questions as best you can, though you are welcome to keep it brief and in bullet points.*\\r\\n\\r\\n- What were the goals for this week for the group project?\\r\\nOur goals were to get a dataset together with all the data we've gathered.\\r\\n- What has been accomplished?\\r\\nWe've managed to get a diverse dataset with many features to use for the future, by using publicly available data and data from the archives.\\r\\n- Any problems or issues that need resolving?\\r\\nN/A\\r\\n\\r\\n## Next Week's Goals:\\r\\n*Try to answer the following questions as best you can, though you are welcome to keep it brief and in bullet points.*\\r\\n\\r\\n- What are the goals for the upcoming week? Reach out to Professor Knox, and make sure we're allowed to use the in-progress PEN America dataset before putting it in our GitHub.\\r\\n- Who is assigned to what tasks?\\r\\nAditi and Rebeca are adding archives data to the dataset. Avery and Ryan are merging the dataset and making sure there aren't any null rows. Henry and Lhaye are emailing PEN America and Professor Knox for more datasets for us to use.\\r\\n\\r\\n## Notes/Additional Information:\\r\\n*Optional additional information*\\r\\n\\r\\n- Anything else to highlight?\", \"html_url\": \"https://github.com/CultureAsData-UIUC/is310-fall-2024-group-2/issues/3\", \"assignee\": null, \"assignees_logins\": null, \"labels\": \"[]\", \"milestone\": null, \"draft\": null, \"comments\": 0.0, \"state_reason\": \"completed\", \"closed_by_login\": \"ryanpearlman1\", \"reactions.total_count\": 0.0, \"issue_duration\": 6.0, \"issue_associated_with_pull_request\": false, \"pull_request.url\": null, \"issue_status_on_project_board\": NaN, \"issue_date_type\": \"created_at\", \"issue_date\": \"2024-10-22 20:34:04+00:00\"}, {\"user_login\": \"ryanpearlman1\", \"title\": \"Weekly Progress -- Week 8 (PM: Ryan Pearlman)\", \"state\": \"closed\", \"body\": \"This is a template for project managers to report their weekly progress. Please fill out the following sections. You can also include any additional information that you think is relevant.\\r\\n\\r\\n# Project Manager Weekly Report\\r\\n\\r\\n## Weekly Checklist\\r\\n\\r\\n- [x] Created a weekly report for the group project\\r\\n- [x] Updated the project board\\r\\n- [x] Checked in with team members\\r\\n- [x] Assigned tasks for the upcoming week\\r\\n- [x] Close issue once the weekly tasks are completed\\r\\n\\r\\n## Weekly Summary:\\r\\n*Try to answer the following questions as best you can, though you are welcome to keep it brief and in bullet points.*\\r\\n\\r\\n- What were the goals for this week for the group project?\\r\\nOur goals were to get a dataset together with all the data we've gathered.\\r\\n- What has been accomplished?\\r\\nWe've managed to get a diverse dataset with many features to use for the future, by using publicly available data and data from the archives.\\r\\n- Any problems or issues that need resolving?\\r\\nN/A\\r\\n\\r\\n## Next Week's Goals:\\r\\n*Try to answer the following questions as best you can, though you are welcome to keep it brief and in bullet points.*\\r\\n\\r\\n- What are the goals for the upcoming week? Reach out to Professor Knox, and make sure we're allowed to use the in-progress PEN America dataset before putting it in our GitHub.\\r\\n- Who is assigned to what tasks?\\r\\nAditi and Rebeca are adding archives data to the dataset. Avery and Ryan are merging the dataset and making sure there aren't any null rows. Henry and Lhaye are emailing PEN America and Professor Knox for more datasets for us to use.\\r\\n\\r\\n## Notes/Additional Information:\\r\\n*Optional additional information*\\r\\n\\r\\n- Anything else to highlight?\", \"html_url\": \"https://github.com/CultureAsData-UIUC/is310-fall-2024-group-2/issues/3\", \"assignee\": null, \"assignees_logins\": null, \"labels\": \"[]\", \"milestone\": null, \"draft\": null, \"comments\": 0.0, \"state_reason\": \"completed\", \"closed_by_login\": \"ryanpearlman1\", \"reactions.total_count\": 0.0, \"issue_duration\": 6.0, \"issue_associated_with_pull_request\": false, \"pull_request.url\": null, \"issue_status_on_project_board\": NaN, \"issue_date_type\": \"updated_at\", \"issue_date\": \"2024-10-29 14:36:07+00:00\"}, {\"user_login\": \"ryanpearlman1\", \"title\": \"Weekly Progress -- Week 8 (PM: Ryan Pearlman)\", \"state\": \"closed\", \"body\": \"This is a template for project managers to report their weekly progress. Please fill out the following sections. You can also include any additional information that you think is relevant.\\r\\n\\r\\n# Project Manager Weekly Report\\r\\n\\r\\n## Weekly Checklist\\r\\n\\r\\n- [x] Created a weekly report for the group project\\r\\n- [x] Updated the project board\\r\\n- [x] Checked in with team members\\r\\n- [x] Assigned tasks for the upcoming week\\r\\n- [x] Close issue once the weekly tasks are completed\\r\\n\\r\\n## Weekly Summary:\\r\\n*Try to answer the following questions as best you can, though you are welcome to keep it brief and in bullet points.*\\r\\n\\r\\n- What were the goals for this week for the group project?\\r\\nOur goals were to get a dataset together with all the data we've gathered.\\r\\n- What has been accomplished?\\r\\nWe've managed to get a diverse dataset with many features to use for the future, by using publicly available data and data from the archives.\\r\\n- Any problems or issues that need resolving?\\r\\nN/A\\r\\n\\r\\n## Next Week's Goals:\\r\\n*Try to answer the following questions as best you can, though you are welcome to keep it brief and in bullet points.*\\r\\n\\r\\n- What are the goals for the upcoming week? Reach out to Professor Knox, and make sure we're allowed to use the in-progress PEN America dataset before putting it in our GitHub.\\r\\n- Who is assigned to what tasks?\\r\\nAditi and Rebeca are adding archives data to the dataset. Avery and Ryan are merging the dataset and making sure there aren't any null rows. Henry and Lhaye are emailing PEN America and Professor Knox for more datasets for us to use.\\r\\n\\r\\n## Notes/Additional Information:\\r\\n*Optional additional information*\\r\\n\\r\\n- Anything else to highlight?\", \"html_url\": \"https://github.com/CultureAsData-UIUC/is310-fall-2024-group-2/issues/3\", \"assignee\": null, \"assignees_logins\": null, \"labels\": \"[]\", \"milestone\": null, \"draft\": null, \"comments\": 0.0, \"state_reason\": \"completed\", \"closed_by_login\": \"ryanpearlman1\", \"reactions.total_count\": 0.0, \"issue_duration\": 6.0, \"issue_associated_with_pull_request\": false, \"pull_request.url\": null, \"issue_status_on_project_board\": NaN, \"issue_date_type\": \"closed_at\", \"issue_date\": \"2024-10-29 14:36:07+00:00\"}]}}, {\"mode\": \"vega-lite\"});\n",
       "</script>"
      ],
      "text/plain": [
       "alt.VConcatChart(...)"
      ]
     },
     "execution_count": 4,
     "metadata": {},
     "output_type": "execute_result"
    }
   ],
   "source": [
    "# Once again melt the issues dataframe from wide to long format so that we can have all the issue dates in one column called issue_date\n",
    "melted_issues_df = issues_df.melt(id_vars=['user.login', 'title', 'state', 'body', 'html_url', 'assignee', 'assignees_logins', 'labels', 'milestone', 'draft', 'comments', 'state_reason', 'closed_by.login', 'reactions.total_count', 'issue_duration', 'issue_associated_with_pull_request', 'pull_request.url', 'issue_status_on_project_board'], value_vars=['created_at', 'updated_at', 'closed_at'], var_name='issue_date_type', value_name='issue_date')\n",
    "\n",
    "# Rename columns for because Altair does not let us use '.' in the column names\n",
    "melted_issues_df = melted_issues_df.rename(columns={\n",
    "    'user.login': 'user_login', \n",
    "    'closed_by.login': 'closed_by_login'\n",
    "})\n",
    "\n",
    "# Sort the DataFrame by issue_date\n",
    "melted_issues_df = melted_issues_df.sort_values(by='issue_date')\n",
    "\n",
    "# Get the unique issue titles\n",
    "issue_titles = melted_issues_df['title'].unique().tolist()\n",
    "\n",
    "# Initialize an empty list to store the charts\n",
    "charts = []\n",
    "# Loop through each issue title to create a chart for the issue\n",
    "for title in issue_titles:\n",
    "    # Create a selection so that we can highlight the contributions of each group member\n",
    "    selection = alt.selection_point(fields=['user_login'], bind='legend')\n",
    "    \n",
    "    # Filter the DataFrame for the current issue title\n",
    "    subset_data = melted_issues_df[melted_issues_df['title'] == title]\n",
    "    \n",
    "    # Initialize a list to store subtitles for the chart\n",
    "    subtitle = []\n",
    "    \n",
    "    # Check if the issue is associated with a pull request\n",
    "    has_pr = subset_data[subset_data['issue_associated_with_pull_request'] == True]\n",
    "    if not has_pr.empty:\n",
    "        # If the issue is associated with a pull request, get the URL of the pull request and add it to the subtitle\n",
    "        pr_url = subset_data['pull_request.url'].unique()[0]\n",
    "        subtitle.append(f\"Issue associated with a pull request ({pr_url}).\")\n",
    "    \n",
    "    # Check if the issue is associated with a project board\n",
    "    has_project_board = subset_data[subset_data['issue_status_on_project_board'].notna()]\n",
    "    if not has_project_board.empty:\n",
    "        # If the issue is associated with a project board, get the status of the issue on the project board and add it to the subtitle\n",
    "        board_status = subset_data['issue_status_on_project_board'].unique()[0]\n",
    "        subtitle.append(f\"Issue is associated with a project board and has status {board_status}.\")\n",
    "    \n",
    "    # If no subtitles were added, add a default message\n",
    "    if not subtitle:\n",
    "        subtitle = \"Issue is not associated with a pull request or a project board.\"\n",
    "    \n",
    "    # Create a line chart for the current issue title\n",
    "    chart = alt.Chart(subset_data).mark_line(point=True).encode(\n",
    "        x='issue_date:T', # Use the issue date as the x-axis\n",
    "        y=alt.Y('title', axis=alt.Axis(title=None, labels=False)), # Use the title as the y-axis and don't show the axis labels or title since we have the title in the chart title\n",
    "        color='user_login:N', # Color the lines by the user login\n",
    "        tooltip=[\n",
    "            'user_login', 'closed_by_login', 'yearmonthdatehoursminutes(issue_date)', 'issue_date_type', \n",
    "            'title', 'body', 'state', 'assignee', 'assignees_logins', 'html_url'\n",
    "        ], # Show the user login, closed by login, issue date, issue date type, title, body, state, assignee, assignees logins, and HTML URL in the tooltip\n",
    "        opacity=alt.condition(selection, alt.value(1), alt.value(0.1)) # Set the opacity to 1 if the user login is selected and 0.1 if not\n",
    "    ).add_params(selection).properties(\n",
    "        # Set the title of the chart to be the issue title and the subtitle to be the subtitles we created\n",
    "        title=alt.Title(f\"Issue: {title}\", subtitle=subtitle)\n",
    "    )\n",
    "    \n",
    "    # Append the chart to the list of charts\n",
    "    charts.append(chart)\n",
    "\n",
    "# Concatenate all the charts vertically and resolve the x-scale to be shared\n",
    "alt.vconcat(*charts).resolve_scale(x='shared')"
   ]
  },
  {
   "cell_type": "markdown",
   "metadata": {},
   "source": [
    "Looking at your issues and project board, it is a bit concerning that only Ryan seems to be doing any issues? Furthermore, I'm curious why you haven't been using them to prior to the end of October. I realize it might be difficult to learn a new interface, but having the issues and project board can be very helpful for keeping track of what needs to be done and what has been done. I would encourage you to try to use them more moving forward."
   ]
  },
  {
   "cell_type": "markdown",
   "metadata": {},
   "source": [
    "## Group Assignments to Date Feedback\n",
    "\n",
    "The following feedback is for the three group assignments you have completed so far. Since there isn't clear documentation on who completed what activity, I am currently using the git history to assess contributions, but I am happy to adjust this assessment if you provide me with more information."
   ]
  },
  {
   "cell_type": "markdown",
   "metadata": {},
   "source": [
    "### Mass Digitization & Digital Libraries Assignment\n",
    "\n",
    "- ~~I could not find a file that corresponds to this assignment in your repository. If you could please provide me with the file name or location, I would be happy to reassess this assignment.~~\n",
    "- \n",
    "\n",
    "Status: Incomplete"
   ]
  },
  {
   "cell_type": "markdown",
   "metadata": {},
   "source": [
    "### Critical Cultural Data Explorations Assignment\n",
    "\n",
    "- I believe your `Critical Cultural Data Exploration.txt` is the correct file for this assignment though please feel free to correct me if I missed something. Overall, I thought you collectively did a great job with this assignment, so well done! \n",
    "- I appreciated that you included links to all your sources, but you might consider reformatting the file as a Markdown file though it’s not required. It's just a bit easier to format and have the links render as links on GitHub. \n",
    "- I did find it a bit confusing which dataset was which based on your referents, so if in future you could use exact names (in this case it would be the Censorship Attacks vs UPENN datasets). With regards to the origins of the Censorship Attacks dataset, I found this information [https://www.everylibraryinstitute.org/book_censorship_database_magnusson](https://www.everylibraryinstitute.org/book_censorship_database_magnusson) which might be helpful for your final project. It appears the dataset is not anonymous and instead the author appears to have some affiliation with PEN America [https://pen.org/profile/tasslyn-magnusson/](https://pen.org/profile/tasslyn-magnusson/).\n",
    "- I think you did a good job of identifying the differences between the two datasets, especially considering that one of them was a library catalogue database which makes a bit more difficult to compare. I thought your assessment of the potential bias was spot on, though I would add that you could also include what books even end up catalogued in libraries in the first place, which is often a winnowing process since there are far more books published than preserved in libraries. Again, though given your focus on banned books, I doubt there's many banned books so obscure they wouldn't be in a library, so my point is more of a general one.\n",
    "- I thought your assessment of the AI tools was very good, and I appreciated your critical lens on them. I would be curious to know why the AI tool couldn't read the dataset, since it seems like it should be able to process a csv file. I think you might also consider what it knows about the books themselves though? That might give you a sense of a) how famous a book is and b) also one of the unintended consequences of the downstream effects of book bans (it could make some books more notable or elide over others depending on how these bans are reported).\n",
    "- Based on the git history, it looks like Rebecca is the only one who worked on this file so if you could confirm that you all divide the labor equitably then I'm happy to share the grade of full marks between all members of the group.\n",
    "\n",
    "Status: Complete & Currently Full Marks for Rebecca (though all group members will receive the same grade if confirmed)"
   ]
  },
  {
   "cell_type": "markdown",
   "metadata": {},
   "source": [
    "### Proprietary & Perspectival Dataset Creation Assignment\n",
    "\n",
    "- It seems like you have two documents, in your `proprietary-perspectival-dataset-creation` folder and that both were pushed up by Lhaye. Please let me know if I'm missing anything, and you will see I made a small alteration to get the screenshots to render correctly.\n",
    "- Overall, I thought you did a fantastic job with this assignment! I thought you had a clear rationale for choosing Instagram, and I was impressed at the level of detail you went into regarding Meta's TOS and access limitations, especially the various APIs and how they can be used. I thought your assessment of the platform and how lawsuits and business interests are shaping it was spot on. I also appreciated the link to the google sheets though I cannot see the version history. I thought your use of the new policy change around teenage accounts on Instagram was a great way of getting at the shifts in the TOS considering that the Wayback Machine was down. Finally, I thought your assessment of how lawsuits and business interests are shaping Instagram was spot on.\n",
    "- In terms of the dataset and reflection, I appreciated the link to the Google Sheets dataset, though again I cannot see the version history to see who did what and you might consider simply adding that data to this GitHub repository. Overall, I thought you did a fantastic job with this document as well. I thought your `Documenting the Data` section was great and I really appreciated your consideration of user privacy in creating this data. Also appreciated the inclusion of data types with each column, and that you even researched the max limit of caption length on Instagram. I would highly encourage you to do a similar write up of relevant columns for your final project.\n",
    "- I thought your choice of mood or feeling as the subjective element of the dataset made sense and I liked that you considered not only the completeness of this data, but also limitations of your current approach around empty captions or informational content, as well as the potential problems of not having a controlled vocabulary around mood. I thought your reflection section was excellent as well and I think choosing your own or friends account made sense. I particularly liked your consideration of how dynamics like sponsorship could influence this data. If you continued this dataset or restarted it for another class, you might consider tracing how sponsored content looks differently (if it does even) for you and your friends, though you are part of the same social circle. Regardless though, your assessment of the grey area of ethics around collecting user generated data and informed consent was great. The license looks great too, though it does need to be moved to the main part of your repo to show up as an overall license for the repository.\n",
    "\n",
    "Status: Complete & Currently Full Marks for Lhaye (though all group members will receive the same grade if confirmed)"
   ]
  },
  {
   "cell_type": "markdown",
   "metadata": {},
   "source": [
    "## Mid-Semester Dataset Update Feedback"
   ]
  },
  {
   "cell_type": "markdown",
   "metadata": {},
   "source": [
    "### Dataset Feedback\n",
    "\n",
    "Overall, the dataset is starting to look very promising! I appreciate that you cannot publicly release the data on GitHub, though that does limit how you version the dataset. I would encourage you to consider sharing the actual Google Sheets you're using since then I would be able to see the data entry process through the version history. We should also discuss how you might release aggregate data publicly in a way that makes some of your work publicly available while still protecting the authors of the books you are detailing.\n",
    "\n",
    "As I said at the outset, I'm very impressed with how you are working around the challenges of not finding datasets about banned books, and the degree to which you all collectively worked to follow up on any potential leads on existing data. I realize this gap is somewhat surprising given their political and cultural importance of banned books, but unfortunately few organizations are incentivized or have the bandwidth to collect this data. Previously I did have students hand enter the top lists of banned books each year released by PEN America, but even determining how those lists were created can be tricky, so I mention it as a potential additional resource, though I do think you have quite a bit of data already. I was especially impressed that you conducted actual archival and digitization work (you might be the only group this semester to do so!) and I think that will be a very valuable contribution to the dataset.\n",
    "\n",
    "I appreciate that you have worked very hard to combine two fairly different datasets and that you have consider thoughtfully what to include or exclude in terms of columns. I think your choice not to drop any columns is an excellent one, especially since most bibliographic data is quite sparse. However, I do think combining the two datasets is not necessarily required. Instead, I would encourage you to think about multiple datasets and merging them. That would allow you have to more relevant documentation for each dataset that reflected the original data source. It would also make it easier for others to work with your data since they could choose to use one or the other dataset if they wanted. Finally, it would likely make it easier to add additional bibliographic metadata (potentially as a third dataset) to your existing data. If you want a relevant example of how to organize the data, I would point you to the \"Against Cleaning\" chapter that we read in class. As a small point, you have an `Unnamed: 0` column that you might want to remove, but that's a minor point (remember the Pandas function `pd.to_csv` has an `index=False` parameter that can help with this).\n",
    "\n",
    "I would also encourage you to have a bit more detail about what is in your dataset in the documentation. To be clear, I think your current documentation is excellent (more details below in the next section), but it would be helpful to have an overview of what you collectively consider the most useful columns and also any columns you have manually added. Finally, you might also consider adding a bit more detail to the data you are entering from digitized sources. Specifically, I would encourage you to include what source you are using, who is entering the data, and potentially a date of entry or update date to help document your process. Remember the process of creating data is worth documenting as well!"
   ]
  },
  {
   "cell_type": "markdown",
   "metadata": {},
   "source": [
    "### Documentation Feedback\n",
    "\n",
    "As I said above, your documentation is excellent, and particularly the thoroughness with which you've detailed your choices and process.\n",
    "\n",
    "I thought all the sections were great but particularly the `Challenges` section. I want to assure you that these obstacles, though frustrating are relatively common so learning how to adapt and pivot in the face of them is an excellent skill to have throughout your career! While book banning has a long history and was/is certainly popular internationally, you’re absolutely right that the practice has become much more popular since the culture wars of the 1990s. In terms of getting genre, ISBN, and other metadata, I may be able to help you get those items from WorldCat though that will need to be through a collaboration with HathiTrust. However, you could also look directly to see if any of the banned books are in HathiTrust or the Internet Archive to gather that metadata (you will not be able to get full text but still the metadata could be helpful!).\n",
    "\n",
    "I also think the `Criteria` should go right into your final data essay. It’s excellent and appreciate your thoughtfulness towards what might bias this data or confounds that shaped its production; a context that is absolutely crucial to understanding this data! I also found the `Content Description` section very helpful, I would suggest for the final data essay that you include a bit more details on your manually data creation process. You could for example include a page of the scanned record to help narrate your process similar to this example from the *Shakespeare and Company Project* [https://shakespeareandco.princeton.edu/sources/cards/](https://shakespeareandco.princeton.edu/sources/cards/). This project might also be of interest since it looks at books as well, though primarily the lending behaviors of members of the Shakespeare and Company library in Paris during the 1920s and 1930s. Indeed, there are a number of potentially relevant projects for looking at books and libraries that might help you situate your project. You've already seen the *Responsible Datasets in Context Project*, which uses *HathiTrust* and *Internet Archive* data, you might also take a look at the data available from Goodreads, via the *Goodreads Social Graph* project, which has a lot of data on books and reading habits (available at [https://sites.google.com/eng.ucsd.edu/ucsdbookgraph/home](https://sites.google.com/eng.ucsd.edu/ucsdbookgraph/home)). Similarly, you might take a look at the *What Middletown Read* project (available here [https://lib.bsu.edu/wmr/](https://lib.bsu.edu/wmr/)) that looks at the reading habits of Muncie, Indiana in the late 19th and early 20th centuries. Finally, you might also take a look at the *Seattle Public Library* project (available here [https://spl.org/](https://spl.org/)) that has a lot of data on the books in the Seattle Public Library system. I do not expect you to use this data, though there may be some useful metadata or ideas for your project. But more I think these projects will help you think about who might use this data and also see some examples of existing datasets to inform how you might structure your data to be useful to others.\n",
    "\n",
    "Finally, I appreciate your thoughtful division of labor and think your choices make sense. I will need confirmation that this is accurate from all group members to share the grade between all of you since again I can only see Ryan's adding of the `README` file currently in the git history. \n",
    "\n",
    "If you decide you want to try something like working with HathiTrust APIs to get metadata, I would be happy to help you setup that pipeline so please don't hesitate to reach out. Similarly, you might for the final project consider mapping as a helpful visualization in the documentation. If you do decide to go that route, I would encourage you to consider two Python libraries: for geocoding, you might consider `geopy` [https://geopy.readthedocs.io/en/stable/](https://geopy.readthedocs.io/en/stable/) which lets you turn state names into geographic shapes, and for mapping you might consider `leafmap` [https://leafmap.org/](https://leafmap.org/) which is a wrapper around `folium` that makes it easier to create maps. This is just a suggestion though, and I think you have a lot of great ideas already!"
   ]
  },
  {
   "cell_type": "markdown",
   "metadata": {},
   "source": [
    "### Progress from Initial Proposal Feedback\n",
    "\n",
    "In the initial proposal, Jess had asked you to address the following questions as feedback to consider (paraphrased):\n",
    "\n",
    "- [ ] How will you clarify and refine your research question? Are you planning to argue that the number of banned books tracks with “significant cultural and political turnover” or are you comparing the data of banned books in the past with the data from the 21st century? \n",
    "- [ ] How will you be collecting data? You mentioned web scraping a few times, but it is unclear why it is needed for this project. What data will you be scraping?\n",
    "- [ ] You note that you will be taking data from the ALA and UIUC archives. Will your data focus only on American book banning or international?\n",
    "\n",
    "My current assessment is that you have largely completed these tasks, though I would encourage you to consider the following as you move towards completing the final project:\n",
    "\n",
    "First, I think you could experiment and consider a bit more how best to structure the data, as well as how to document the various data sources you are using. Second, I think you could include a bit more of your process in the final dataset and documentation, especially since you have done some very interesting archival work. Finally, I think you could consider how to make the data more accessible to others, especially since you are not able to share the raw data. One solution might be aggregate counts or simply visualizations, but it would be helpful to have some public aspect to the data so happy to help you brainstorm. \n",
    "\n",
    "I think you are on the right track with your project, but I think addressing some of the considerations I have outlined above will help you to make sure you are on target to meet the project goals and requirements. Please feel free to reach out to me if you have any questions or concerns about my feedback or how to proceed with the project.\n",
    "\n",
    "### Final Grade\n",
    "\n",
    "Your grade for this assignment is currently an A, and I am excited to see what you do in the remaining weeks! This grade is currently for everyone named in the `Responsibility and Contributions` (so Ryan, Rebecca, Avery, Lhaye, and Henry), once all group members have confirmed the division of labor listed is accurate and equitable."
   ]
  },
  {
   "cell_type": "markdown",
   "metadata": {},
   "source": []
  }
 ],
 "metadata": {
  "kernelspec": {
   "display_name": "is310-class-env",
   "language": "python",
   "name": "python3"
  },
  "language_info": {
   "codemirror_mode": {
    "name": "ipython",
    "version": 3
   },
   "file_extension": ".py",
   "mimetype": "text/x-python",
   "name": "python",
   "nbconvert_exporter": "python",
   "pygments_lexer": "ipython3",
   "version": "3.12.6"
  }
 },
 "nbformat": 4,
 "nbformat_minor": 2
}
