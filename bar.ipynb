{
 "cells": [
  {
   "cell_type": "code",
   "execution_count": 2,
   "metadata": {},
   "outputs": [
    {
     "name": "stdout",
     "output_type": "stream",
     "text": [
      "                 Genre  Total State\n",
      "17             fiction     45    FL\n",
      "6             classics     15    FL\n",
      "42   realistic fiction     11    SC\n",
      "34          nonfiction     10    FL\n",
      "4             children     10    SC\n",
      "22  historical fiction      9    MD\n",
      "27                lgbt      8    WI\n",
      "54         young adult      6    WI\n",
      "7         contemporary      6    CT\n",
      "15             fantasy      5    MD\n",
      "0     african american      5    VA\n",
      "2            biography      4    GA\n",
      "24              horror      4    FL\n",
      "52            thriller      4    CT\n",
      "30     magical realism      4    MD\n"
     ]
    }
   ],
   "source": [
    "import pandas as pd\n",
    "import altair as alt\n",
    "\n",
    "csv = pd.read_csv(\"/Users/henryjamesrotunno/Documents/challenge.csv\")\n",
    "\n",
    "melter = csv.melt(id_vars=['State'], value_vars=['Genre1', 'Genre2', 'Genre3'],\n",
    "                        var_name='Genre Column', value_name='Genre')\n",
    "\n",
    "melter['Genre'] = melter['Genre'].str.strip().str.lower() # lower/space check\n",
    "\n",
    "melter = melter.dropna(subset=['Genre'])\n",
    "\n",
    "genre_state_counts = melter.groupby(['Genre', 'State']).size().reset_index(name='Count')\n",
    "max_state_for_genre = genre_state_counts.loc[genre_state_counts.groupby('Genre')['Count'].idxmax()]\n",
    "\n",
    "counter = melter.groupby('Genre').size().reset_index(name='Total')\n",
    "counter = counter.merge(max_state_for_genre[['Genre', 'State']], on='Genre')\n",
    "big_15 = counter.sort_values(by='Total', ascending=False).head(15) # get top 15 by count of genre\n",
    "print(big_15)"
   ]
  },
  {
   "cell_type": "code",
   "execution_count": 3,
   "metadata": {},
   "outputs": [
    {
     "data": {
      "text/html": [
       "\n",
       "<style>\n",
       "  #altair-viz-e69ea9a7af4444d98e35ef113b8eff62.vega-embed {\n",
       "    width: 100%;\n",
       "    display: flex;\n",
       "  }\n",
       "\n",
       "  #altair-viz-e69ea9a7af4444d98e35ef113b8eff62.vega-embed details,\n",
       "  #altair-viz-e69ea9a7af4444d98e35ef113b8eff62.vega-embed details summary {\n",
       "    position: relative;\n",
       "  }\n",
       "</style>\n",
       "<div id=\"altair-viz-e69ea9a7af4444d98e35ef113b8eff62\"></div>\n",
       "<script type=\"text/javascript\">\n",
       "  var VEGA_DEBUG = (typeof VEGA_DEBUG == \"undefined\") ? {} : VEGA_DEBUG;\n",
       "  (function(spec, embedOpt){\n",
       "    let outputDiv = document.currentScript.previousElementSibling;\n",
       "    if (outputDiv.id !== \"altair-viz-e69ea9a7af4444d98e35ef113b8eff62\") {\n",
       "      outputDiv = document.getElementById(\"altair-viz-e69ea9a7af4444d98e35ef113b8eff62\");\n",
       "    }\n",
       "    const paths = {\n",
       "      \"vega\": \"https://cdn.jsdelivr.net/npm/vega@5?noext\",\n",
       "      \"vega-lib\": \"https://cdn.jsdelivr.net/npm/vega-lib?noext\",\n",
       "      \"vega-lite\": \"https://cdn.jsdelivr.net/npm/vega-lite@5.20.1?noext\",\n",
       "      \"vega-embed\": \"https://cdn.jsdelivr.net/npm/vega-embed@6?noext\",\n",
       "    };\n",
       "\n",
       "    function maybeLoadScript(lib, version) {\n",
       "      var key = `${lib.replace(\"-\", \"\")}_version`;\n",
       "      return (VEGA_DEBUG[key] == version) ?\n",
       "        Promise.resolve(paths[lib]) :\n",
       "        new Promise(function(resolve, reject) {\n",
       "          var s = document.createElement('script');\n",
       "          document.getElementsByTagName(\"head\")[0].appendChild(s);\n",
       "          s.async = true;\n",
       "          s.onload = () => {\n",
       "            VEGA_DEBUG[key] = version;\n",
       "            return resolve(paths[lib]);\n",
       "          };\n",
       "          s.onerror = () => reject(`Error loading script: ${paths[lib]}`);\n",
       "          s.src = paths[lib];\n",
       "        });\n",
       "    }\n",
       "\n",
       "    function showError(err) {\n",
       "      outputDiv.innerHTML = `<div class=\"error\" style=\"color:red;\">${err}</div>`;\n",
       "      throw err;\n",
       "    }\n",
       "\n",
       "    function displayChart(vegaEmbed) {\n",
       "      vegaEmbed(outputDiv, spec, embedOpt)\n",
       "        .catch(err => showError(`Javascript Error: ${err.message}<br>This usually means there's a typo in your chart specification. See the javascript console for the full traceback.`));\n",
       "    }\n",
       "\n",
       "    if(typeof define === \"function\" && define.amd) {\n",
       "      requirejs.config({paths});\n",
       "      require([\"vega-embed\"], displayChart, err => showError(`Error loading script: ${err.message}`));\n",
       "    } else {\n",
       "      maybeLoadScript(\"vega\", \"5\")\n",
       "        .then(() => maybeLoadScript(\"vega-lite\", \"5.20.1\"))\n",
       "        .then(() => maybeLoadScript(\"vega-embed\", \"6\"))\n",
       "        .catch(showError)\n",
       "        .then(() => displayChart(vegaEmbed));\n",
       "    }\n",
       "  })({\"config\": {\"view\": {\"continuousWidth\": 300, \"continuousHeight\": 300}}, \"data\": {\"name\": \"data-80b2a822e70527272441169e89e18607\"}, \"mark\": {\"type\": \"bar\"}, \"encoding\": {\"color\": {\"field\": \"Genre\", \"type\": \"nominal\"}, \"tooltip\": [{\"field\": \"Genre\", \"type\": \"nominal\"}, {\"field\": \"Total\", \"type\": \"quantitative\"}, {\"field\": \"State\", \"type\": \"nominal\"}], \"x\": {\"field\": \"Genre\", \"sort\": null, \"type\": \"nominal\"}, \"y\": {\"field\": \"Total\", \"type\": \"quantitative\"}}, \"height\": 300, \"title\": \"Top 15 Banned Genres and the states who banned them the most (98-99)\", \"width\": 500, \"$schema\": \"https://vega.github.io/schema/vega-lite/v5.20.1.json\", \"datasets\": {\"data-80b2a822e70527272441169e89e18607\": [{\"Genre\": \"fiction\", \"Total\": 45, \"State\": \"FL\"}, {\"Genre\": \"classics\", \"Total\": 15, \"State\": \"FL\"}, {\"Genre\": \"realistic fiction\", \"Total\": 11, \"State\": \"SC\"}, {\"Genre\": \"nonfiction\", \"Total\": 10, \"State\": \"FL\"}, {\"Genre\": \"children\", \"Total\": 10, \"State\": \"SC\"}, {\"Genre\": \"historical fiction\", \"Total\": 9, \"State\": \"MD\"}, {\"Genre\": \"lgbt\", \"Total\": 8, \"State\": \"WI\"}, {\"Genre\": \"young adult\", \"Total\": 6, \"State\": \"WI\"}, {\"Genre\": \"contemporary\", \"Total\": 6, \"State\": \"CT\"}, {\"Genre\": \"fantasy\", \"Total\": 5, \"State\": \"MD\"}, {\"Genre\": \"african american\", \"Total\": 5, \"State\": \"VA\"}, {\"Genre\": \"biography\", \"Total\": 4, \"State\": \"GA\"}, {\"Genre\": \"horror\", \"Total\": 4, \"State\": \"FL\"}, {\"Genre\": \"thriller\", \"Total\": 4, \"State\": \"CT\"}, {\"Genre\": \"magical realism\", \"Total\": 4, \"State\": \"MD\"}]}}, {\"mode\": \"vega-lite\"});\n",
       "</script>"
      ],
      "text/plain": [
       "alt.Chart(...)"
      ]
     },
     "metadata": {},
     "output_type": "display_data"
    }
   ],
   "source": [
    "chart = alt.Chart(big_15).mark_bar().encode(\n",
    "    x=alt.X('Genre:N', sort=None),\n",
    "    y='Total:Q',\n",
    "    color='Genre:N',\n",
    "    tooltip=['Genre:N', 'Total:Q', 'State:N'] # cool color setting\n",
    ").properties(\n",
    "    width=500,\n",
    "    height=300,\n",
    "    title='Top 15 Banned Genres and the states who banned them the most (98-99)'\n",
    ")\n",
    "\n",
    "chart.show()"
   ]
  }
 ],
 "metadata": {
  "kernelspec": {
   "display_name": ".venv",
   "language": "python",
   "name": "python3"
  },
  "language_info": {
   "codemirror_mode": {
    "name": "ipython",
    "version": 3
   },
   "file_extension": ".py",
   "mimetype": "text/x-python",
   "name": "python",
   "nbconvert_exporter": "python",
   "pygments_lexer": "ipython3",
   "version": "3.12.1"
  }
 },
 "nbformat": 4,
 "nbformat_minor": 2
}
